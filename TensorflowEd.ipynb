{
  "nbformat": 4,
  "nbformat_minor": 0,
  "metadata": {
    "colab": {
      "provenance": [],
      "authorship_tag": "ABX9TyM4n5mJE/olJm5qNl1xSO2M",
      "include_colab_link": true
    },
    "kernelspec": {
      "name": "python3",
      "display_name": "Python 3"
    },
    "language_info": {
      "name": "python"
    }
  },
  "cells": [
    {
      "cell_type": "markdown",
      "metadata": {
        "id": "view-in-github",
        "colab_type": "text"
      },
      "source": [
        "<a href=\"https://colab.research.google.com/github/AarkeTripathi/Python-Education/blob/master/TensorflowEd.ipynb\" target=\"_parent\"><img src=\"https://colab.research.google.com/assets/colab-badge.svg\" alt=\"Open In Colab\"/></a>"
      ]
    },
    {
      "cell_type": "code",
      "source": [
        "import tensorflow as tf\n",
        "from tensorflow import keras\n",
        "from tensorflow.keras import layers\n",
        "from tensorflow.keras.datasets import mnist"
      ],
      "metadata": {
        "id": "vKyKEh8MhuxM"
      },
      "execution_count": 1,
      "outputs": []
    },
    {
      "cell_type": "markdown",
      "source": [
        "Initialization of Tensors"
      ],
      "metadata": {
        "id": "KoxByWxXhIIY"
      }
    },
    {
      "cell_type": "code",
      "execution_count": 2,
      "metadata": {
        "id": "Qmb3RrizJFRA",
        "colab": {
          "base_uri": "https://localhost:8080/"
        },
        "outputId": "81974efe-5717-4339-c4c7-ec4745a1d65a"
      },
      "outputs": [
        {
          "output_type": "stream",
          "name": "stdout",
          "text": [
            "tf.Tensor(4, shape=(), dtype=int32)\n"
          ]
        }
      ],
      "source": [
        "#passing constant numbers as a tensor\n",
        "x=tf.constant(4)\n",
        "print(x)"
      ]
    },
    {
      "cell_type": "code",
      "source": [
        "#defining the shape(basically, dimension like it is to be treated as a constant, vector, matrix, 4d or any other dimensional, but only logically valid dimesnsion) and datatype of a tensor manually\n",
        "x=tf.constant([[4]], shape=(1,1), dtype=tf.float32)\n",
        "print(x)"
      ],
      "metadata": {
        "colab": {
          "base_uri": "https://localhost:8080/"
        },
        "id": "xmvVCMR2ih7g",
        "outputId": "97c0f52f-6ba9-4569-9c38-0c52d8b80b59"
      },
      "execution_count": 3,
      "outputs": [
        {
          "output_type": "stream",
          "name": "stdout",
          "text": [
            "tf.Tensor([[4.]], shape=(1, 1), dtype=float32)\n"
          ]
        }
      ]
    },
    {
      "cell_type": "code",
      "source": [
        "#some popular tensors\n",
        "x=tf.ones((3,3))\n",
        "print(x)\n",
        "x=tf.zeros((2,3,2))\n",
        "print(f'\\n {x}')\n",
        "x=tf.eye(3)           #identity matrix\n",
        "print(f'\\n {x}')"
      ],
      "metadata": {
        "colab": {
          "base_uri": "https://localhost:8080/"
        },
        "id": "khNLx1ZvjF20",
        "outputId": "651c5150-9797-4ae2-8f45-f437273391a9"
      },
      "execution_count": 4,
      "outputs": [
        {
          "output_type": "stream",
          "name": "stdout",
          "text": [
            "tf.Tensor(\n",
            "[[1. 1. 1.]\n",
            " [1. 1. 1.]\n",
            " [1. 1. 1.]], shape=(3, 3), dtype=float32)\n",
            "\n",
            " [[[0. 0.]\n",
            "  [0. 0.]\n",
            "  [0. 0.]]\n",
            "\n",
            " [[0. 0.]\n",
            "  [0. 0.]\n",
            "  [0. 0.]]]\n",
            "\n",
            " [[1. 0. 0.]\n",
            " [0. 1. 0.]\n",
            " [0. 0. 1.]]\n"
          ]
        }
      ]
    },
    {
      "cell_type": "code",
      "source": [
        "#changing the data type\n",
        "x=tf.cast(x, dtype=tf.float64)"
      ],
      "metadata": {
        "id": "ihpS8petk6iM"
      },
      "execution_count": 5,
      "outputs": []
    },
    {
      "cell_type": "markdown",
      "source": [
        "Mathematical Operations"
      ],
      "metadata": {
        "id": "ds5AXhnB2vT-"
      }
    },
    {
      "cell_type": "code",
      "source": [
        "x=tf.constant([1,2,3])\n",
        "y=tf.constant([2,3,4])\n",
        "print(x+y)\n",
        "#or\n",
        "print(tf.add(x,y))"
      ],
      "metadata": {
        "colab": {
          "base_uri": "https://localhost:8080/"
        },
        "id": "U1JeC5PRmuor",
        "outputId": "c92cea2b-71f8-4e99-cf21-f4aed24c3a56"
      },
      "execution_count": 6,
      "outputs": [
        {
          "output_type": "stream",
          "name": "stdout",
          "text": [
            "tf.Tensor([3 5 7], shape=(3,), dtype=int32)\n",
            "tf.Tensor([3 5 7], shape=(3,), dtype=int32)\n"
          ]
        }
      ]
    },
    {
      "cell_type": "code",
      "source": [
        "#dot product\n",
        "print(tf.tensordot(x,y,axes=1))"
      ],
      "metadata": {
        "colab": {
          "base_uri": "https://localhost:8080/"
        },
        "id": "v_3NmvKxoHzL",
        "outputId": "86094efb-b65b-40f6-94cb-7a04774a1089"
      },
      "execution_count": 7,
      "outputs": [
        {
          "output_type": "stream",
          "name": "stdout",
          "text": [
            "tf.Tensor(20, shape=(), dtype=int32)\n"
          ]
        }
      ]
    },
    {
      "cell_type": "code",
      "source": [
        " #sum of all numbers in a tensor\n",
        " x=tf.constant([[6,3,4],[1,2,3]])\n",
        " z=tf.reduce_sum(x)\n",
        " print(z)"
      ],
      "metadata": {
        "colab": {
          "base_uri": "https://localhost:8080/"
        },
        "id": "zupleNJYr3VY",
        "outputId": "574de7ad-4669-4f6e-916e-0c3455200c15"
      },
      "execution_count": 8,
      "outputs": [
        {
          "output_type": "stream",
          "name": "stdout",
          "text": [
            "tf.Tensor(19, shape=(), dtype=int32)\n"
          ]
        }
      ]
    },
    {
      "cell_type": "markdown",
      "source": [
        "Neural Networks"
      ],
      "metadata": {
        "id": "02nYN1SMcw9j"
      }
    },
    {
      "cell_type": "code",
      "source": [
        "(x_train,y_train),(x_test,y_test)=mnist.load_data()"
      ],
      "metadata": {
        "id": "_qm-1LHb2IG8",
        "colab": {
          "base_uri": "https://localhost:8080/"
        },
        "outputId": "8d80a9b0-3962-47f5-ed6c-ea4c5397c572"
      },
      "execution_count": 9,
      "outputs": [
        {
          "output_type": "stream",
          "name": "stdout",
          "text": [
            "Downloading data from https://storage.googleapis.com/tensorflow/tf-keras-datasets/mnist.npz\n",
            "11490434/11490434 [==============================] - 0s 0us/step\n"
          ]
        }
      ]
    },
    {
      "cell_type": "code",
      "source": [
        "print(x_train.shape,'\\n',y_train.shape)"
      ],
      "metadata": {
        "colab": {
          "base_uri": "https://localhost:8080/"
        },
        "id": "UP914yPolJNW",
        "outputId": "6381ac9d-4700-4fb5-ce95-17fc36b4c37e"
      },
      "execution_count": 10,
      "outputs": [
        {
          "output_type": "stream",
          "name": "stdout",
          "text": [
            "(60000, 28, 28) \n",
            " (60000,)\n"
          ]
        }
      ]
    },
    {
      "cell_type": "code",
      "source": [
        "x_train=x_train.reshape()"
      ],
      "metadata": {
        "id": "38JRqQjolV2d"
      },
      "execution_count": null,
      "outputs": []
    }
  ]
}